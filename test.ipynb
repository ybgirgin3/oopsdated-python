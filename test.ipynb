{
 "cells": [
  {
   "cell_type": "code",
   "execution_count": 1,
   "id": "initial_id",
   "metadata": {
    "is_executing": true
   },
   "outputs": [],
   "source": [
    "from src.commons.db import DBProcess\n",
    "from src.commons import session, _create_table\n",
    "from src.models import user, repo\n",
    "from sqlalchemy.orm import Session"
   ]
  },
  {
   "cell_type": "code",
   "execution_count": 2,
   "id": "2e584871-e4d2-4b99-b0d2-742264a17c35",
   "metadata": {},
   "outputs": [],
   "source": [
    "_create_table()"
   ]
  },
  {
   "cell_type": "code",
   "execution_count": 4,
   "id": "94c5a06e-6644-4d70-808a-a56d5a5a6606",
   "metadata": {},
   "outputs": [
    {
     "data": {
      "text/plain": [
       "{'name': 'Bekocan', 'email': 'bekocan@gmail.com'}"
      ]
     },
     "execution_count": 4,
     "metadata": {},
     "output_type": "execute_result"
    }
   ],
   "source": [
    "user_obj = {'name': 'Bekocan', 'email': 'bekocan@gmail.com'}\n",
    "user_obj"
   ]
  },
  {
   "cell_type": "code",
   "execution_count": 5,
   "id": "c54b484e-4d34-410a-9232-9e37a50eb85c",
   "metadata": {},
   "outputs": [
    {
     "data": {
      "text/plain": [
       "{'name': 'react-native',\n",
       " 'owner': 'facebook',\n",
       " 'url': 'https://www.github.com/facebook/react-native'}"
      ]
     },
     "execution_count": 5,
     "metadata": {},
     "output_type": "execute_result"
    }
   ],
   "source": [
    "repo_obj = {'name': 'react-native', 'owner': 'facebook', 'url': 'https://www.github.com/facebook/react-native'}\n",
    "repo_obj"
   ]
  },
  {
   "cell_type": "code",
   "execution_count": 6,
   "id": "2f8a44a5414256f1",
   "metadata": {
    "collapsed": false,
    "jupyter": {
     "outputs_hidden": false
    }
   },
   "outputs": [
    {
     "data": {
      "text/plain": [
       "'\\nwith session() as sess:\\n    dbp = DBProcess(repo.Repo)\\n    dbp.create(repo_obj)\\n'"
      ]
     },
     "execution_count": 6,
     "metadata": {},
     "output_type": "execute_result"
    }
   ],
   "source": [
    "'''\n",
    "with session() as sess:\n",
    "    dbp = DBProcess(user.User)\n",
    "    dbp.create(user_obj)\n",
    "'''\n",
    "'''\n",
    "with session() as sess:\n",
    "    dbp = DBProcess(repo.Repo)\n",
    "    dbp.create(repo_obj)\n",
    "'''"
   ]
  },
  {
   "cell_type": "code",
   "execution_count": 7,
   "id": "5cfff00f-2312-42bc-9bfd-36d2505de527",
   "metadata": {},
   "outputs": [],
   "source": [
    "with session() as sess:\n",
    "    dbp = DBProcess(model=user.User)\n",
    "    result = dbp.read()"
   ]
  },
  {
   "cell_type": "code",
   "execution_count": 8,
   "id": "20e6c206-76f9-4896-93f9-e11fab394a84",
   "metadata": {},
   "outputs": [
    {
     "data": {
      "text/plain": [
       "[]"
      ]
     },
     "execution_count": 8,
     "metadata": {},
     "output_type": "execute_result"
    }
   ],
   "source": [
    "result"
   ]
  },
  {
   "cell_type": "code",
   "execution_count": 9,
   "id": "2dcbfdc8-8873-4da9-a13b-cd9bae5d0d55",
   "metadata": {},
   "outputs": [
    {
     "data": {
      "text/plain": [
       "[]"
      ]
     },
     "execution_count": 9,
     "metadata": {},
     "output_type": "execute_result"
    }
   ],
   "source": [
    "[i.name for i in result]"
   ]
  },
  {
   "cell_type": "code",
   "execution_count": null,
   "id": "e389ac94-1f7b-44d3-a6e1-63441b2e7334",
   "metadata": {},
   "outputs": [],
   "source": []
  }
 ],
 "metadata": {
  "kernelspec": {
   "display_name": "oopsdated-python",
   "language": "python",
   "name": "oopsdated-python"
  },
  "language_info": {
   "codemirror_mode": {
    "name": "ipython",
    "version": 3
   },
   "file_extension": ".py",
   "mimetype": "text/x-python",
   "name": "python",
   "nbconvert_exporter": "python",
   "pygments_lexer": "ipython3",
   "version": "3.11.5"
  }
 },
 "nbformat": 4,
 "nbformat_minor": 5
}
