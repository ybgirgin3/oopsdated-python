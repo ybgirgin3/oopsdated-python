{
 "cells": [
  {
   "cell_type": "code",
   "execution_count": 11,
   "id": "initial_id",
   "metadata": {
    "is_executing": true
   },
   "outputs": [],
   "source": [
    "from src.commons.db import DBProcess\n",
    "from src.commons import session, _create_table\n",
    "from src.models import user, repo\n",
    "from sqlalchemy.orm import Session"
   ]
  },
  {
   "cell_type": "code",
   "execution_count": 12,
   "id": "2e584871-e4d2-4b99-b0d2-742264a17c35",
   "metadata": {},
   "outputs": [],
   "source": [
    "#_create_table()"
   ]
  },
  {
   "cell_type": "code",
   "execution_count": 13,
   "id": "94c5a06e-6644-4d70-808a-a56d5a5a6606",
   "metadata": {},
   "outputs": [
    {
     "data": {
      "text/plain": [
       "{'name': 'Bekocan', 'email': 'bekocan@gmail.com'}"
      ]
     },
     "execution_count": 13,
     "metadata": {},
     "output_type": "execute_result"
    }
   ],
   "source": [
    "user_obj = {'name': 'Bekocan', 'email': 'bekocan@gmail.com'}\n",
    "user_obj"
   ]
  },
  {
   "cell_type": "code",
   "execution_count": 14,
   "id": "c54b484e-4d34-410a-9232-9e37a50eb85c",
   "metadata": {},
   "outputs": [
    {
     "data": {
      "text/plain": [
       "{'name': 'homefinanace',\n",
       " 'owner': 'ybgirgin3',\n",
       " 'url': 'https://www.github.com/ybgirgin3/homefinanace'}"
      ]
     },
     "execution_count": 14,
     "metadata": {},
     "output_type": "execute_result"
    }
   ],
   "source": [
    "repo_obj = {'name': 'homefinanace', 'owner': 'ybgirgin3', 'url': 'https://www.github.com/ybgirgin3/homefinanace'}\n",
    "repo_obj"
   ]
  },
  {
   "cell_type": "code",
   "execution_count": 15,
   "id": "2f8a44a5414256f1",
   "metadata": {
    "collapsed": false,
    "jupyter": {
     "outputs_hidden": false
    }
   },
   "outputs": [
    {
     "data": {
      "text/plain": [
       "'\\nwith session() as sess:\\n    dbp = DBProcess(repo.Repo)\\n    dbp.create(repo_obj)\\n'"
      ]
     },
     "execution_count": 15,
     "metadata": {},
     "output_type": "execute_result"
    }
   ],
   "source": [
    "'''\n",
    "with session() as sess:\n",
    "    dbp = DBProcess(user.User)\n",
    "    dbp.create(user_obj)\n",
    "'''\n",
    "\n",
    "'''\n",
    "with session() as sess:\n",
    "    dbp = DBProcess(repo.Repo)\n",
    "    dbp.create(repo_obj)\n",
    "'''"
   ]
  },
  {
   "cell_type": "code",
   "execution_count": 25,
   "id": "406633ab-5b36-4513-8055-43e77a909ff3",
   "metadata": {},
   "outputs": [],
   "source": [
    "w = {}"
   ]
  },
  {
   "cell_type": "code",
   "execution_count": 26,
   "id": "5cfff00f-2312-42bc-9bfd-36d2505de527",
   "metadata": {},
   "outputs": [],
   "source": [
    "with session() as sess:\n",
    "    dbp = DBProcess(model=repo.Repo)\n",
    "    result = dbp.read(filters=w)"
   ]
  },
  {
   "cell_type": "code",
   "execution_count": 27,
   "id": "20e6c206-76f9-4896-93f9-e11fab394a84",
   "metadata": {},
   "outputs": [
    {
     "data": {
      "text/plain": [
       "[<src.models.repo.Repo at 0x107366f90>, <src.models.repo.Repo at 0x107367010>]"
      ]
     },
     "execution_count": 27,
     "metadata": {},
     "output_type": "execute_result"
    }
   ],
   "source": [
    "result"
   ]
  },
  {
   "cell_type": "code",
   "execution_count": 28,
   "id": "2dcbfdc8-8873-4da9-a13b-cd9bae5d0d55",
   "metadata": {},
   "outputs": [
    {
     "data": {
      "text/plain": [
       "[{'_sa_instance_state': <sqlalchemy.orm.state.InstanceState at 0x107342510>,\n",
       "  'subs': '1',\n",
       "  'owner': 'ybgirgin3',\n",
       "  'created_at': datetime.datetime(2023, 8, 26, 21, 29, 51, 759301),\n",
       "  'name': 'homefinance',\n",
       "  'id': 1,\n",
       "  'url': 'https://www.github.com/ybgirgin3/homefinance',\n",
       "  'updated_at': datetime.datetime(2023, 8, 26, 21, 29, 51, 759301)},\n",
       " {'_sa_instance_state': <sqlalchemy.orm.state.InstanceState at 0x107342570>,\n",
       "  'subs': None,\n",
       "  'owner': 'ybgirgin3',\n",
       "  'created_at': datetime.datetime(2023, 8, 26, 21, 51, 50, 716033),\n",
       "  'name': 'homefinanace',\n",
       "  'id': 2,\n",
       "  'url': 'https://www.github.com/ybgirgin3/homefinanace',\n",
       "  'updated_at': datetime.datetime(2023, 8, 26, 21, 51, 50, 716033)}]"
      ]
     },
     "execution_count": 28,
     "metadata": {},
     "output_type": "execute_result"
    }
   ],
   "source": [
    "[i.__dict__ for i in result]"
   ]
  }
 ],
 "metadata": {
  "kernelspec": {
   "display_name": "oopsdated-python",
   "language": "python",
   "name": "oopsdated-python"
  },
  "language_info": {
   "codemirror_mode": {
    "name": "ipython",
    "version": 3
   },
   "file_extension": ".py",
   "mimetype": "text/x-python",
   "name": "python",
   "nbconvert_exporter": "python",
   "pygments_lexer": "ipython3",
   "version": "3.11.5"
  }
 },
 "nbformat": 4,
 "nbformat_minor": 5
}
